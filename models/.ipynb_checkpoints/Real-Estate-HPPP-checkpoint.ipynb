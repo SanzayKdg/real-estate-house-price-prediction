{
 "cells": [
  {
   "cell_type": "markdown",
   "id": "df66d305-122f-40dc-9e4c-0f7847405d47",
   "metadata": {},
   "source": [
    "# Importing the required libraries"
   ]
  },
  {
   "cell_type": "code",
   "execution_count": 1,
   "id": "37bee6b3-126b-4a27-abed-7e67ee565763",
   "metadata": {},
   "outputs": [],
   "source": [
    "import pandas as pd\n",
    "import numpy as np\n",
    "from matplotlib import pyplot as plt\n",
    "%matplotlib inline\n",
    "import matplotlib\n",
    "matplotlib.rcParams['figure.figsize'] = (20, 10)"
   ]
  },
  {
   "cell_type": "markdown",
   "id": "413fc98e-21f5-4f6c-9658-8deeea86dbf7",
   "metadata": {},
   "source": [
    "# Loading the datasets"
   ]
  },
  {
   "cell_type": "code",
   "execution_count": 2,
   "id": "7d858132-362b-4ce1-b6bc-8b64e4119282",
   "metadata": {},
   "outputs": [
    {
     "data": {
      "text/html": [
       "<div>\n",
       "<style scoped>\n",
       "    .dataframe tbody tr th:only-of-type {\n",
       "        vertical-align: middle;\n",
       "    }\n",
       "\n",
       "    .dataframe tbody tr th {\n",
       "        vertical-align: top;\n",
       "    }\n",
       "\n",
       "    .dataframe thead th {\n",
       "        text-align: right;\n",
       "    }\n",
       "</style>\n",
       "<table border=\"1\" class=\"dataframe\">\n",
       "  <thead>\n",
       "    <tr style=\"text-align: right;\">\n",
       "      <th></th>\n",
       "      <th>title</th>\n",
       "      <th>price</th>\n",
       "      <th>area</th>\n",
       "      <th>location</th>\n",
       "      <th>district</th>\n",
       "      <th>floor</th>\n",
       "      <th>room</th>\n",
       "      <th>bedroom</th>\n",
       "      <th>bathroom</th>\n",
       "      <th>livingroom</th>\n",
       "      <th>kitchen</th>\n",
       "      <th>parking</th>\n",
       "      <th>link</th>\n",
       "    </tr>\n",
       "  </thead>\n",
       "  <tbody>\n",
       "    <tr>\n",
       "      <th>0</th>\n",
       "      <td>House for Sale at Sitapaila, Kathmandu</td>\n",
       "      <td>25,000,000</td>\n",
       "      <td>sq m0-5-0-0</td>\n",
       "      <td>Sitapaila, Kathmandu</td>\n",
       "      <td>Kathmandu</td>\n",
       "      <td>3</td>\n",
       "      <td>12</td>\n",
       "      <td>NaN</td>\n",
       "      <td>3</td>\n",
       "      <td>NaN</td>\n",
       "      <td>NaN</td>\n",
       "      <td>1.0</td>\n",
       "      <td>https://99aana.com/property/house-for-sale-at-...</td>\n",
       "    </tr>\n",
       "    <tr>\n",
       "      <th>1</th>\n",
       "      <td>House for sale at Lubhu, Lalitpur</td>\n",
       "      <td>14,500,000</td>\n",
       "      <td>sq m0-3-0-0</td>\n",
       "      <td>Lubhu, Lalitpur</td>\n",
       "      <td>Lalitpur</td>\n",
       "      <td>2.5</td>\n",
       "      <td>7</td>\n",
       "      <td>4</td>\n",
       "      <td>3</td>\n",
       "      <td>NaN</td>\n",
       "      <td>2</td>\n",
       "      <td>1.0</td>\n",
       "      <td>https://99aana.com/property/house-for-sale-at-...</td>\n",
       "    </tr>\n",
       "    <tr>\n",
       "      <th>2</th>\n",
       "      <td>House for sale at Gothatar, Kathmandu</td>\n",
       "      <td>24,400,000</td>\n",
       "      <td>sq m0-4-0-0</td>\n",
       "      <td>Gothatar, Kathmandu</td>\n",
       "      <td>Kathmandu</td>\n",
       "      <td>2.5</td>\n",
       "      <td>NaN</td>\n",
       "      <td>NaN</td>\n",
       "      <td>NaN</td>\n",
       "      <td>NaN</td>\n",
       "      <td>NaN</td>\n",
       "      <td>1.0</td>\n",
       "      <td>https://99aana.com/property/house-for-sale-at-...</td>\n",
       "    </tr>\n",
       "    <tr>\n",
       "      <th>3</th>\n",
       "      <td>House for sale at TiKathali, Lalitpur</td>\n",
       "      <td>12,500,000</td>\n",
       "      <td>sq m0-3-0-0</td>\n",
       "      <td>TiKathali, Lalitpur</td>\n",
       "      <td>Lalitpur</td>\n",
       "      <td>1.5</td>\n",
       "      <td>NaN</td>\n",
       "      <td>NaN</td>\n",
       "      <td>NaN</td>\n",
       "      <td>NaN</td>\n",
       "      <td>NaN</td>\n",
       "      <td>1.0</td>\n",
       "      <td>https://99aana.com/property/house-for-sale-at-...</td>\n",
       "    </tr>\n",
       "    <tr>\n",
       "      <th>4</th>\n",
       "      <td>House for Sale at Kadaghari, Kathmandu</td>\n",
       "      <td>13,100,000</td>\n",
       "      <td>sq m0-3-0-0</td>\n",
       "      <td>Kadaghari, Kathmandu</td>\n",
       "      <td>Kathmandu</td>\n",
       "      <td>2.5</td>\n",
       "      <td>NaN</td>\n",
       "      <td>NaN</td>\n",
       "      <td>NaN</td>\n",
       "      <td>NaN</td>\n",
       "      <td>NaN</td>\n",
       "      <td>1.0</td>\n",
       "      <td>https://99aana.com/property/house-for-sale-at-...</td>\n",
       "    </tr>\n",
       "  </tbody>\n",
       "</table>\n",
       "</div>"
      ],
      "text/plain": [
       "                                    title       price         area  \\\n",
       "0  House for Sale at Sitapaila, Kathmandu  25,000,000  sq m0-5-0-0   \n",
       "1       House for sale at Lubhu, Lalitpur  14,500,000  sq m0-3-0-0   \n",
       "2   House for sale at Gothatar, Kathmandu  24,400,000  sq m0-4-0-0   \n",
       "3   House for sale at TiKathali, Lalitpur  12,500,000  sq m0-3-0-0   \n",
       "4  House for Sale at Kadaghari, Kathmandu  13,100,000  sq m0-3-0-0   \n",
       "\n",
       "               location   district floor room bedroom bathroom  livingroom  \\\n",
       "0  Sitapaila, Kathmandu  Kathmandu     3   12     NaN        3         NaN   \n",
       "1       Lubhu, Lalitpur   Lalitpur   2.5    7       4        3         NaN   \n",
       "2   Gothatar, Kathmandu  Kathmandu   2.5  NaN     NaN      NaN         NaN   \n",
       "3   TiKathali, Lalitpur   Lalitpur   1.5  NaN     NaN      NaN         NaN   \n",
       "4  Kadaghari, Kathmandu  Kathmandu   2.5  NaN     NaN      NaN         NaN   \n",
       "\n",
       "  kitchen  parking                                               link  \n",
       "0     NaN      1.0  https://99aana.com/property/house-for-sale-at-...  \n",
       "1       2      1.0  https://99aana.com/property/house-for-sale-at-...  \n",
       "2     NaN      1.0  https://99aana.com/property/house-for-sale-at-...  \n",
       "3     NaN      1.0  https://99aana.com/property/house-for-sale-at-...  \n",
       "4     NaN      1.0  https://99aana.com/property/house-for-sale-at-...  "
      ]
     },
     "execution_count": 2,
     "metadata": {},
     "output_type": "execute_result"
    }
   ],
   "source": [
    "df = pd.read_csv(\"99aana.csv\")\n",
    "df.head()"
   ]
  },
  {
   "cell_type": "code",
   "execution_count": 3,
   "id": "c780e791-bc2e-4b68-b8d0-10f17eb44299",
   "metadata": {},
   "outputs": [
    {
     "data": {
      "text/plain": [
       "(2063, 13)"
      ]
     },
     "execution_count": 3,
     "metadata": {},
     "output_type": "execute_result"
    }
   ],
   "source": [
    "df.shape"
   ]
  },
  {
   "cell_type": "markdown",
   "id": "c2845db0-28f6-4ee0-8356-76290c8ee4e1",
   "metadata": {},
   "source": [
    "# Data cleaning"
   ]
  },
  {
   "cell_type": "code",
   "execution_count": 9,
   "id": "dd8d2719-06a6-4107-aa3b-8cb458123c55",
   "metadata": {},
   "outputs": [],
   "source": [
    "# Controls the max num. of rows displayed when printring a dataframe\n",
    "pd.set_option('display.max_rows', None)"
   ]
  },
  {
   "cell_type": "markdown",
   "id": "1117ad1e-2c3e-4923-a959-179df4ed1240",
   "metadata": {},
   "source": [
    "# Train test split"
   ]
  },
  {
   "cell_type": "markdown",
   "id": "b7a1bc03-5227-431c-8471-f000088fe1df",
   "metadata": {},
   "source": [
    "# Training and predicting"
   ]
  },
  {
   "cell_type": "markdown",
   "id": "e116707c-e314-469f-8513-abfb208bda35",
   "metadata": {},
   "source": [
    "# Evaluation"
   ]
  },
  {
   "cell_type": "code",
   "execution_count": null,
   "id": "d1f18451-3be0-4602-968e-c1e75c4e99cd",
   "metadata": {},
   "outputs": [],
   "source": []
  },
  {
   "cell_type": "code",
   "execution_count": null,
   "id": "be9bacb2-fa3b-44c9-8668-8b1b9d14540a",
   "metadata": {},
   "outputs": [],
   "source": []
  }
 ],
 "metadata": {
  "kernelspec": {
   "display_name": "Python 3 (ipykernel)",
   "language": "python",
   "name": "python3"
  },
  "language_info": {
   "codemirror_mode": {
    "name": "ipython",
    "version": 3
   },
   "file_extension": ".py",
   "mimetype": "text/x-python",
   "name": "python",
   "nbconvert_exporter": "python",
   "pygments_lexer": "ipython3",
   "version": "3.12.3"
  }
 },
 "nbformat": 4,
 "nbformat_minor": 5
}
